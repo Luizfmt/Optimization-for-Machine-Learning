{
 "cells": [
  {
   "cell_type": "markdown",
   "id": "89f6f5cc-e740-4a4c-aebf-fd02941b9979",
   "metadata": {},
   "source": [
    "# Optimization for Machine Learning: Computer Lab 1\n",
    "\n",
    "**MOREIRA TEIXEIRA Luiz Fernando**\n",
    "\n",
    "**OLM REZENDE Mariana**\n",
    "\n",
    "## 2. Preprocessing the data\n",
    "\n",
    "Here, we load the data, standardize it, and set it in the appropriate shape for performing linear regression. You do not need to complete anything in this section; however it is important that you understand what the code is doing. See the pdf instructions for more details."
   ]
  },
  {
   "cell_type": "code",
   "execution_count": 9,
   "id": "47c5f011-294c-4aae-ad6d-ad866077e794",
   "metadata": {},
   "outputs": [],
   "source": [
    "import numpy as np\n",
    "import matplotlib.pyplot as plt"
   ]
  },
  {
   "cell_type": "code",
   "execution_count": 10,
   "id": "86e56b10-a3a7-4409-8bec-99330823b56c",
   "metadata": {},
   "outputs": [],
   "source": [
    "# Loading data\n",
    "data_matrix_train, COP_train, data_matrix_test, COP_test, names = np.load('data_center_data_matrix.npy', allow_pickle=True)"
   ]
  },
  {
   "cell_type": "code",
   "execution_count": 11,
   "id": "4e5ab66b-88b9-48d4-92ae-78898c3407f3",
   "metadata": {},
   "outputs": [
    {
     "data": {
      "text/plain": [
       "(892,)"
      ]
     },
     "execution_count": 11,
     "metadata": {},
     "output_type": "execute_result"
    }
   ],
   "source": [
    "# centering and normalizing the matrix\n",
    "matrix_mean = np.mean(data_matrix_train, axis=0)\n",
    "M = data_matrix_train - matrix_mean\n",
    "\n",
    "matrix_std = np.std(M, axis=0)\n",
    "M = M / matrix_std\n",
    "matrix_mean.shape"
   ]
  },
  {
   "cell_type": "code",
   "execution_count": 12,
   "id": "5375e38d-60ca-4a56-96d7-fe556916bd07",
   "metadata": {},
   "outputs": [
    {
     "data": {
      "text/plain": [
       "(722, 892)"
      ]
     },
     "execution_count": 12,
     "metadata": {},
     "output_type": "execute_result"
    }
   ],
   "source": [
    "M.shape"
   ]
  },
  {
   "cell_type": "code",
   "execution_count": 13,
   "id": "b78bed44-51b7-499c-83c3-7d31d137cd96",
   "metadata": {},
   "outputs": [],
   "source": [
    "# Building the corresponding matrices A,b for linear regression\n",
    "A = np.hstack([M, np.ones((M.shape[0],1)), -(M.T * COP_train[:,3]).T])\n",
    "b = COP_train[:,3]\n",
    "\n",
    "# Building the same matrices for the test set\n",
    "M_test = (data_matrix_test - matrix_mean) / matrix_std\n",
    "A_test = np.hstack([M_test, np.ones((M_test.shape[0],1)), -(M_test.T * COP_test[:,3]).T])\n",
    "b_test = COP_test[:,3]\n",
    "\n",
    "d = A.shape[1]"
   ]
  },
  {
   "cell_type": "markdown",
   "id": "5fc974f0-0eb1-46db-af33-b27f232bc4ec",
   "metadata": {},
   "source": [
    "## 3. Ordinary least squares\n",
    "\n",
    "We now wish to solve the problem\n",
    "$$\n",
    "\\min_{w \\in \\mathbb{R}^d} \\frac 12 \\|Aw-b\\|_2^2\n",
    "$$"
   ]
  },
  {
   "cell_type": "markdown",
   "id": "fe44ed40-d424-4815-9182-e03d79099edf",
   "metadata": {},
   "source": [
    "### Question 3.1:\n",
    "\n",
    "Since we know that $Aw = b$ and $ b = y(t)$, we have:\n",
    "\n",
    "$$\n",
    "y(t) = \\tilde{x}(t)^{T}w_1 + w_0 - y(t) \\times \\tilde{x}(t)^{T}w_2\n",
    "$$\n",
    "\n",
    "Rearranging terms:\n",
    "\n",
    "$$\n",
    "y(t) + y(t) \\times \\tilde{x}(t)^{T}w_2 = \\tilde{x}(t)^{T}w_1 + w_0\n",
    "$$\n",
    "\n",
    "Factoring out \\( y(t) \\) on the left-hand side:\n",
    "\n",
    "$$\n",
    "y(t) \\left( 1 + \\tilde{x}(t)^{T}w_2 \\right) = \\tilde{x}(t)^{T}w_1 + w_0\n",
    "$$\n",
    "\n",
    "Dividing through by $\\left( 1 + \\tilde{x}(t)^{T}w_2 \\right)$, assuming $1 + \\tilde{x}(t)^{T}w_2 \\neq 0 $, we get:\n",
    "\n",
    "$$\n",
    "y(t) = \\frac{\\tilde{x}(t)^{T}w_1 + w_0}{1 + \\tilde{x}(t)^{T}w_2}\n",
    "$$\n"
   ]
  },
  {
   "cell_type": "code",
   "execution_count": 14,
   "id": "47c243e3-5aab-4373-b10f-749278195663",
   "metadata": {},
   "outputs": [
    {
     "name": "stdout",
     "output_type": "stream",
     "text": [
      "Training MSE: 1.2590797762290833e-27\n"
     ]
    }
   ],
   "source": [
    "## Question 3.2: solve with the numpy least squares solver\n",
    "w_least_squares, residuals, rank, s = np.linalg.lstsq(A, b, rcond=None)\n",
    "training_error = np.mean((A @ w_least_squares - b) ** 2)\n",
    "print(f\"Training MSE: {training_error}\")"
   ]
  },
  {
   "cell_type": "code",
   "execution_count": 15,
   "id": "ac547051-72eb-4973-a5bc-710d46189afe",
   "metadata": {},
   "outputs": [
    {
     "name": "stdout",
     "output_type": "stream",
     "text": [
      "Test error for least squares solution :  780.8984793523921\n"
     ]
    }
   ],
   "source": [
    "## Question 3.3\n",
    "\n",
    "# COMPLETE HERE\n",
    "test_error = np.mean((A_test @ w_least_squares - b_test)**2)\n",
    "print(\"Test error for least squares solution : \", test_error)"
   ]
  },
  {
   "cell_type": "markdown",
   "id": "79e96422-8dcf-459f-ac5a-6bf1553df7c7",
   "metadata": {},
   "source": [
    "### Adding $\\ell_2$ regularization\n",
    "\n",
    "In order to improve the performance on the test set, we add $\\ell_2$ regularization:\n",
    "\n",
    "$$\n",
    "\\min_{w \\in \\mathbb{R}^d} \\frac 12 \\|Aw-b\\|_2^2 + \\frac \\lambda 2 \\|w\\|_2^2\n",
    "$$"
   ]
  },
  {
   "cell_type": "markdown",
   "id": "8cd94f25-7c7c-40ab-8380-3bc4e2f517bc",
   "metadata": {},
   "source": [
    "### Question 3.4:\n",
    "\n",
    "To check the convexity of the function, let's analyze its Hessian and verify if it's positive semi-definite:\n",
    "\n",
    "$$\n",
    "f(w) = \\frac{1}{2} \\|Aw - b\\|_2^2 + \\frac{\\lambda}{2} \\|w\\|_2^2\n",
    "$$\n",
    "\n",
    "#### Gradient and Hessian:\n",
    "\n",
    "The gradient of $f(w)$ is:\n",
    "\n",
    "$$\n",
    "\\nabla f(w) = A^T(Aw - b) + \\lambda w\n",
    "$$\n",
    "\n",
    "The Hessian is:\n",
    "\n",
    "$$\n",
    "\\nabla^2 f(w) = A^T A + \\lambda I\n",
    "$$\n",
    "\n",
    "Since $A^T A$ is symmetric and positive semi-definite (as $x^T A^T A x \\geq 0$ for all $x$, which can be rewritten as $(Ax)^T(Ax) = \\|Ax\\|_2^2$), and $\\lambda I$ is also positive semi-definite for $\\lambda > 0$, it follows that:\n",
    "\n",
    "$$\n",
    "\\nabla^2 f(w) = A^T A + \\lambda I\n",
    "$$ \n",
    "\n",
    "is positive semi-definite. Thus, $f(w)$ is convex.\n",
    "\n",
    "#### Strong Convexity:\n",
    "\n",
    "To further show that $f(w)$ is $\\lambda$-strongly convex, we use the definition:\n",
    "\n",
    "A function $f(w)$ is $\\lambda$-strongly convex if:\n",
    "\n",
    "$$\n",
    "f(w) - \\frac{\\lambda}{2}\\|w\\|_2^2\n",
    "$$\n",
    "\n",
    "is convex.\n",
    "\n",
    "Substituting $f(w)$:\n",
    "\n",
    "$$\n",
    "f(w) - \\frac{\\lambda}{2}\\|w\\|_2^2 = \\frac{1}{2} \\|Aw - b\\|_2^2\n",
    "$$\n",
    "\n",
    "The term $\\frac{1}{2} \\|Aw - b\\|_2^2$ is convex, as it is a quadratic function with a positive semi-definite Hessian. Therefore, $f(w)$ is $\\lambda$-strongly convex.\n",
    "\n",
    "#### Gradient Descent Step Size:\n",
    "\n",
    "Since $f(w)$ is $\\lambda$-strongly convex, the step size $\\gamma$ for gradient descent is given by:\n",
    "\n",
    "$$\n",
    "\\gamma = \\frac{2}{L + \\lambda}\n",
    "$$\n",
    "\n",
    "where $L$ is the Lipschitz constant of the gradient, corresponding to the largest eigenvalue of $A^T A + \\lambda I$.\n"
   ]
  },
  {
   "cell_type": "code",
   "execution_count": 16,
   "id": "4558f20d-252e-46ae-ac81-36d9bc1ba92a",
   "metadata": {},
   "outputs": [],
   "source": [
    "lambda_l2 = 1e4"
   ]
  },
  {
   "cell_type": "code",
   "execution_count": 17,
   "id": "e0e52bea-55d3-4a3c-8758-c8214eaa64e8",
   "metadata": {},
   "outputs": [],
   "source": [
    "# Question 3.5\n",
    "def f(w):\n",
    "    # COMPLETE HERE\n",
    "    return 0.5 * np.linalg.norm(A @ w - b)**2 + (lambda_l2 / 2) * np.linalg.norm(w)**2\n",
    "def grad_f(w):\n",
    "    # COMPLETE HERE\n",
    "    return A.T @ (A @ w - b) + lambda_l2*w\n",
    "\n",
    "def gradient_descent(func, w0, gamma, max_iter):\n",
    "    w = w0.copy()\n",
    "    \n",
    "    \n",
    "    f_values = []\n",
    "    gradient_norms = []\n",
    "\n",
    "    for t in range(max_iter):\n",
    "        # COMPLETE HERE \n",
    "        w = w - gamma*grad_f(w)\n",
    "        \n",
    "        f_values.append(f(w))\n",
    "        gradient_norms.append(np.linalg.norm(grad_f(w)))\n",
    "        \n",
    "    return w, f_values, gradient_norms"
   ]
  },
  {
   "cell_type": "markdown",
   "id": "08b45d85-6ed0-4cc9-9759-69ee4cbb08f1",
   "metadata": {},
   "source": [
    "For finding the appropriate step size range, we need to estimate the Lipschitz constant of the gradient."
   ]
  },
  {
   "cell_type": "markdown",
   "id": "0d55c420-6843-41f7-b7e8-fb9596562950",
   "metadata": {},
   "source": [
    "### Question 3.6:\n",
    "\n",
    "Since $\\nabla f(w)$ is $L$-Lipschitz, we can compute $L$ as:\n",
    "\n",
    "$$\n",
    "L = \\|A^T A\\|_{\\text{op}} = \\text{max eigenvalue}(A^T A)\n",
    "$$\n",
    "\n",
    "where $\\|A^T A\\|_{\\text{op}}$ denotes the operator norm of $A^T A$, which is equal to its largest eigenvalue.\n"
   ]
  },
  {
   "cell_type": "code",
   "execution_count": 18,
   "id": "92be2760-b2c4-408b-8c3c-309409c1e12c",
   "metadata": {},
   "outputs": [],
   "source": [
    "# COMPLETE HERE\n",
    "v = A.T @ A\n",
    "L = np.max(np.real(np.linalg.eigvals(v +lambda_l2*np.eye(v.shape[0]))))"
   ]
  },
  {
   "cell_type": "code",
   "execution_count": 19,
   "id": "b911cf31-5f36-4caf-b18d-cb46c3f4eea1",
   "metadata": {},
   "outputs": [],
   "source": [
    "# COMPLETE HERE\n",
    "w0 = np.zeros(A.shape[1])\n",
    "step_size = 2/(L+lambda_l2)\n",
    "max_iter = 800\n",
    "\n",
    "w_GD, f_values_GD, gradient_norms_GD = gradient_descent(f, w0, step_size, max_iter)"
   ]
  },
  {
   "cell_type": "markdown",
   "id": "b213c567-b03f-4351-8bf4-21d1f2c529b0",
   "metadata": {},
   "source": [
    "We now compute the evolution of function values and gradient norm. "
   ]
  },
  {
   "cell_type": "code",
   "execution_count": 20,
   "id": "0ec7e77c-d8ef-40b2-b490-37a04d929d39",
   "metadata": {},
   "outputs": [
    {
     "data": {
      "text/plain": [
       "Text(0, 0.5, 'Function values')"
      ]
     },
     "execution_count": 20,
     "metadata": {},
     "output_type": "execute_result"
    },
    {
     "data": {
      "image/png": "[encoded data removed]",
      "text/plain": [
       "<Figure size 1200x400 with 2 Axes>"
      ]
     },
     "metadata": {},
     "output_type": "display_data"
    }
   ],
   "source": [
    "# let us plot the result \n",
    "fig, axes = plt.subplots(nrows=1, ncols=2, figsize=(12, 4))\n",
    "\n",
    "axes[0].plot(gradient_norms_GD)\n",
    "axes[0].semilogy()\n",
    "axes[0].set_ylabel(\"Gradient norm\")\n",
    "\n",
    "axes[1].plot(f_values_GD)\n",
    "axes[1].set_ylabel(\"Function values\")"
   ]
  },
  {
   "cell_type": "code",
   "execution_count": 21,
   "id": "996f65a6-4a51-49be-9398-16d77b3dfd8d",
   "metadata": {},
   "outputs": [
    {
     "name": "stdout",
     "output_type": "stream",
     "text": [
      "Test error for l2 penalized solution :  61.47226024528096\n"
     ]
    }
   ],
   "source": [
    "# Question 3.6 \n",
    "\n",
    "test_error_l2 = np.mean((A_test @ w_GD - b_test)**2) # COMPLETE HERE\n",
    "print(\"Test error for l2 penalized solution : \", test_error_l2)"
   ]
  },
  {
   "cell_type": "markdown",
   "id": "817f6aba-fb0f-4ba2-8fa2-2e6279947610",
   "metadata": {},
   "source": [
    "What do you observe ? \n",
    "\n",
    "A: We can observe that the l2 penalized solution using the gradient descent performs way better than the other solution with least squares. "
   ]
  },
  {
   "cell_type": "markdown",
   "id": "8373ae96-3b06-433a-8d53-ac096c7f5fd7",
   "metadata": {},
   "source": [
    "For a faster algorithm, we could implement accelerated gradient descent."
   ]
  },
  {
   "cell_type": "code",
   "execution_count": 1,
   "id": "d28b336c-0cd5-4c8e-a1db-57fd49e63f5c",
   "metadata": {},
   "outputs": [],
   "source": [
    "# Question 3.7 (optional) \n",
    "\n",
    "def accelerated_gradient_descent(func, w0, gamma, max_iter):\n",
    "    # COMPLETE HERE\n",
    "    pass"
   ]
  },
  {
   "cell_type": "code",
   "execution_count": null,
   "id": "193e6bce-8df6-4672-8ecd-698f89f173c2",
   "metadata": {},
   "outputs": [],
   "source": [
    "# COMPLETE HERE\n",
    "w0 = ...\n",
    "step_size = ...\n",
    "max_iter = ...\n",
    "\n",
    "w_AGD, f_values_AGD, gradient_norms_AGD = accelerated_gradient_descent(f, w0, step_size, max_iter)"
   ]
  },
  {
   "cell_type": "code",
   "execution_count": 5,
   "id": "4b48b2dd-0d6c-4875-9aca-1e19162a3b47",
   "metadata": {},
   "outputs": [],
   "source": [
    "# let us plot the result \n",
    "fig, axes = plt.subplots(nrows=1, ncols=2, figsize=(12, 4))\n",
    "\n",
    "axes[0].plot(gradient_norms_GD, label = \"gradient descent\")\n",
    "axes[0].plot(gradient_norms_AGD, label = \"accelerated gradient descent\")\n",
    "axes[0].semilogy()\n",
    "axes[0].set_ylabel(\"Gradient norm\")\n",
    "axes[0].legend()\n",
    "\n",
    "axes[1].plot(f_values_GD, label = \"gradient descent\")\n",
    "axes[1].plot(f_values_AGD, label = \"accelerated gradient descent\")\n",
    "axes[1].set_ylabel(\"Function values\")\n",
    "axes[1].legend()"
   ]
  },
  {
   "cell_type": "markdown",
   "id": "21d4b5f8-70e0-4261-8675-3427fa548a90",
   "metadata": {},
   "source": [
    "What do you observe regarding the convergence speed ?"
   ]
  },
  {
   "cell_type": "markdown",
   "id": "1a8d11cb-4fdf-4e35-b1b6-9f196492e4ca",
   "metadata": {},
   "source": [
    "## 4. Adding $\\ell_1$ regularization (Lasso)\n",
    "\n",
    "We now solve \n",
    "\n",
    "$$\n",
    "\\min_{w \\in \\mathbb{R}^d} \\frac 12 \\|Aw-b\\|_2^2 + \\lambda \\|w\\|_1\n",
    "$$"
   ]
  },
  {
   "cell_type": "code",
   "execution_count": 6,
   "id": "80b1dd18-dcab-4647-ba26-a7d5267f77fc",
   "metadata": {},
   "outputs": [],
   "source": [
    "lambda_l1 = 1e3\n",
    "\n",
    "## Question 4.2\n",
    "def prox_l1(x, mu = 1.):\n",
    "    \"\"\"compute the proximal operator of mu * |x|_1\n",
    "    \"\"\"\n",
    "    # COMPLETE HERE\n",
    "    return np.sign(x)*np.maximum(np.abs(x)-mu,0)\n",
    "\n",
    "def F_l1(w, lambda_l1=1e3):\n",
    "    return np.sum((A @ w - b) ** 2) / 2 + lambda_l1 * np.sum(np.abs(w))\n",
    "\n",
    "def grad_F_l1(w):\n",
    "    return A.T @ (A @ w - b)\n",
    "\n",
    "def proximal_gradient_descent(func, w0, gamma, max_iter):\n",
    "    w = w0.copy()\n",
    "\n",
    "    f_values = []\n",
    "    gradient_norms = []\n",
    "    for t in range(max_iter):\n",
    "        w = prox_l1(w - gamma*grad_F_l1(w), lambda_l1 * gamma)\n",
    "        f_values.append(F_l1(w))\n",
    "        gradient_norms.append(np.linalg.norm(grad_F_l1(w)))\n",
    "        \n",
    "        \n",
    "    return w, f_values, gradient_norms"
   ]
  },
  {
   "cell_type": "code",
   "execution_count": 22,
   "id": "013e8e9d-3974-480c-8648-3dcf8b756bb7",
   "metadata": {},
   "outputs": [],
   "source": [
    "# COMPLETE HERE\n",
    "w0 = np.zeros(A.shape[1])\n",
    "step_size = 2/(L)\n",
    "max_iter = 2000\n",
    "\n",
    "w_PGD, f_values_PGD, gradient_norms_PGD = proximal_gradient_descent(F_l1, w0, step_size, max_iter)"
   ]
  },
  {
   "cell_type": "code",
   "execution_count": 23,
   "id": "0fa86b3b-bf34-4d0d-ab8e-c609fb3b530c",
   "metadata": {},
   "outputs": [
    {
     "name": "stdout",
     "output_type": "stream",
     "text": [
      "Test error for l1 penalized solution :  3.4239662999117737\n"
     ]
    }
   ],
   "source": [
    "# Question 4.3\n",
    "\n",
    "test_error_l1 = np.mean((A_test @ w_PGD - b_test)**2)\n",
    "print(\"Test error for l1 penalized solution : \", test_error_l1)"
   ]
  },
  {
   "cell_type": "markdown",
   "id": "d4485f91-4e46-462f-859c-ebfb40890115",
   "metadata": {},
   "source": [
    "Compare with the previous test errors. What do you observe?\n",
    "\n",
    "A: We can see that the proximal gradient descent has so far the best test error."
   ]
  },
  {
   "cell_type": "code",
   "execution_count": 24,
   "id": "94168091-be37-4878-807d-9ba9b3730046",
   "metadata": {},
   "outputs": [
    {
     "data": {
      "text/plain": [
       "(1785,)"
      ]
     },
     "execution_count": 24,
     "metadata": {},
     "output_type": "execute_result"
    },
    {
     "data": {
      "image/png": "[encoded data removed]",
      "text/plain": [
       "<Figure size 640x480 with 1 Axes>"
      ]
     },
     "metadata": {},
     "output_type": "display_data"
    }
   ],
   "source": [
    "# Let us examine the solution\n",
    "plt.plot(w_PGD, label = \"l1 solution\")\n",
    "plt.plot(w_GD, label = \"l2 solution\")\n",
    "plt.legend()\n",
    "w_PGD.shape"
   ]
  },
  {
   "cell_type": "code",
   "execution_count": 25,
   "id": "b3f14129-9cd8-42af-9f4e-a892bf590135",
   "metadata": {},
   "outputs": [],
   "source": [
    "# Question 4.4\n",
    "def proximal_gradient_descent_linesearch(F_l1, grad_F_l1, prox_l1, w0, lambda_l1, gamma, max_iter, threshold=1e-6):\n",
    "    \"\"\"\n",
    "    Proximal Gradient Descent with Line Search for L1-regularized problems.\n",
    "    \n",
    "    \"\"\"\n",
    "    w = w0.copy()\n",
    "    f_values = []\n",
    "    gradient_norms = []\n",
    "\n",
    "    for t in range(max_iter):\n",
    "        gamma_k = gamma\n",
    "        grad = grad_F_l1(w)\n",
    "        # Proximal gradient update with tentative step size\n",
    "        w_k = prox_l1(w - gamma_k * grad, lambda_l1 * gamma_k)\n",
    "\n",
    "        # Line search to ensure sufficient decrease\n",
    "        while F_l1(w_k) > F_l1(w) + np.dot(grad, w_k - w) + (1 / (2 * gamma_k)) * np.linalg.norm(w_k - w)**2:\n",
    "            gamma_k /= 2\n",
    "            w_k = prox_l1(w - gamma_k * grad, lambda_l1 * gamma_k)\n",
    "\n",
    "        # Update parameters\n",
    "        w = w_k\n",
    "        gamma = 2 * gamma_k  # Adaptive step size for next iteration\n",
    "\n",
    "        # Record values for analysis\n",
    "        f_values.append(F_l1(w))\n",
    "        gradient_norms.append(np.linalg.norm(grad))\n",
    "\n",
    "\n",
    "    return w, f_values, gradient_norms\n"
   ]
  },
  {
   "cell_type": "code",
   "execution_count": 26,
   "id": "10dbc25e-6ed4-4e31-86a4-51756a89a4b7",
   "metadata": {},
   "outputs": [],
   "source": [
    "w0 = np.zeros(A.shape[1])\n",
    "gamma = 1/(L)\n",
    "max_iter = 400\n",
    "\n",
    "w_PLS, f_values_PLS, gradient_norms_PLS = proximal_gradient_descent_linesearch(F_l1, grad_F_l1, prox_l1, w0, lambda_l1, gamma, max_iter, threshold=1e-6)"
   ]
  },
  {
   "cell_type": "code",
   "execution_count": 27,
   "id": "8100d82e-8b2b-4515-96e7-17730a42dd53",
   "metadata": {},
   "outputs": [
    {
     "name": "stdout",
     "output_type": "stream",
     "text": [
      "Test error for l1 penalized solution :  23.583631923108424\n"
     ]
    }
   ],
   "source": [
    "test_error_linesearch = np.mean((A_test @ w_PLS - b_test)**2)\n",
    "print(\"Test error for l1 penalized solution : \", test_error_linesearch)"
   ]
  },
  {
   "cell_type": "markdown",
   "id": "21bda7e6-2449-4cd2-a451-3cbca9c18c29",
   "metadata": {},
   "source": [
    "### Question 6.1\n",
    "We can compare the test errors of each solution and use it as a metric to compare the perfomance of each model.\n",
    "We can see that in the proximal gradient descent for the lasso problem we achieved the minimum test error, so regarding all the solutions, the proximal gradient descent seems to be the best choice."
   ]
  },
  {
   "cell_type": "markdown",
   "id": "2682484e-06db-428c-9cfa-b9255cf8e7db",
   "metadata": {},
   "source": [
    "## Tuning the penalization parameter\n",
    "\n",
    "How to find the best solution among all those that were comptued? How to choose the penalization parameter $\\lambda$?"
   ]
  },
  {
   "cell_type": "code",
   "execution_count": 23,
   "id": "64a7f78b-ff3b-4a2a-a4df-b7028dd65912",
   "metadata": {},
   "outputs": [],
   "source": [
    "# Your method here..."
   ]
  },
  {
   "cell_type": "code",
   "execution_count": null,
   "id": "6b3260e0-ecd0-496c-90cf-10f6e3f1ebff",
   "metadata": {},
   "outputs": [],
   "source": []
  }
 ],
 "metadata": {
  "kernelspec": {
   "display_name": "Python 3 (ipykernel)",
   "language": "python",
   "name": "python3"
  },
  "language_info": {
   "codemirror_mode": {
    "name": "ipython",
    "version": 3
   },
   "file_extension": ".py",
   "mimetype": "text/x-python",
   "name": "python",
   "nbconvert_exporter": "python",
   "pygments_lexer": "ipython3",
   "version": "3.12.7"
  }
 },
 "nbformat": 4,
 "nbformat_minor": 5
}
